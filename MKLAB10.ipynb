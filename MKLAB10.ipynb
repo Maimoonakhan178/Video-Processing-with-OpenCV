{
 "cells": [
  {
   "cell_type": "markdown",
   "id": "2138b6f8",
   "metadata": {},
   "source": [
    "# MAIMOONA SABIR 02-136212-047"
   ]
  },
  {
   "cell_type": "code",
   "execution_count": 16,
   "id": "02310283",
   "metadata": {},
   "outputs": [],
   "source": [
    "import cv2\n",
    "import numpy as np\n",
    "\n",
    "cap = cv2.VideoCapture('C:\\\\Users\\\\spring2018\\\\Downloads\\\\karate.mp4')\n",
    "\n",
    "\n",
    "frame_width = int(cap.get(cv2.CAP_PROP_FRAME_WIDTH))\n",
    "frame_height = int(cap.get(cv2.CAP_PROP_FRAME_HEIGHT))\n",
    "fps = int(cap.get(cv2.CAP_PROP_FPS))\n",
    "\n",
    "\n",
    "fourcc = cv2.VideoWriter_fourcc(*'XVID')\n",
    "out = cv2.VideoWriter('output_video.avi', fourcc, fps, (frame_width, frame_height))\n",
    "\n",
    "total_frames = int(cap.get(cv2.CAP_PROP_FRAME_COUNT))\n",
    "midpoint = total_frames // 2\n",
    "\n",
    "for i in range(total_frames):\n",
    "    ret, frame = cap.read()\n",
    "    if not ret:\n",
    "        break\n",
    "\n",
    "    if i < midpoint:\n",
    "        edges = cv2.Canny(frame, 100, 200)\n",
    "        frame[:] = [0, 0, 0]\n",
    "        frame[edges != 0] = [255, 255, 255]\n",
    "    else:\n",
    "        gray = cv2.cvtColor(frame, cv2.COLOR_BGR2GRAY)\n",
    "        frame[:] = [0, 0, 0]\n",
    "        corners = cv2.cornerHarris(gray, 2, 3, 0.04)\n",
    "        frame[corners > 0.0001 * corners.max()] = [255, 255, 255]\n",
    "\n",
    " \n",
    "    out.write(frame)\n",
    "\n",
    "    cv2.imshow('frame', frame)\n",
    "    if cv2.waitKey(1) & 0xFF == ord('q'):\n",
    "        break\n",
    "cap.release()\n",
    "out.release()\n",
    "cv2.destroyAllWindows()\n"
   ]
  },
  {
   "cell_type": "code",
   "execution_count": null,
   "id": "b878b153",
   "metadata": {},
   "outputs": [],
   "source": []
  }
 ],
 "metadata": {
  "kernelspec": {
   "display_name": "Python 3",
   "language": "python",
   "name": "python3"
  },
  "language_info": {
   "codemirror_mode": {
    "name": "ipython",
    "version": 3
   },
   "file_extension": ".py",
   "mimetype": "text/x-python",
   "name": "python",
   "nbconvert_exporter": "python",
   "pygments_lexer": "ipython3",
   "version": "3.6.13"
  }
 },
 "nbformat": 4,
 "nbformat_minor": 5
}
